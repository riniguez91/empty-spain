{
  "nbformat": 4,
  "nbformat_minor": 0,
  "metadata": {
    "colab": {
      "name": "model_training.ipynb",
      "provenance": [],
      "collapsed_sections": [],
      "toc_visible": true
    },
    "kernelspec": {
      "display_name": "Python 3",
      "name": "python3"
    }
  },
  "cells": [
    {
      "cell_type": "markdown",
      "metadata": {
        "id": "-h4oIrgOKMk0"
      },
      "source": [
        "# Model training"
      ]
    },
    {
      "cell_type": "markdown",
      "metadata": {
        "id": "EUVuHVE9ePTL"
      },
      "source": [
        "## 1. Data pre-processing\n",
        "\n",
        "We load the dataset locally as an Excel file (xlsx), and add a column that encodes the category as an integer as categorical variables are often better represented by integers than strings."
      ]
    },
    {
      "cell_type": "code",
      "metadata": {
        "id": "JFMm799HKMlu"
      },
      "source": [
        "import pandas as pd"
      ],
      "execution_count": 1,
      "outputs": []
    },
    {
      "cell_type": "code",
      "metadata": {
        "colab": {
          "resources": {
            "http://localhost:8080/nbextensions/google.colab/files.js": {
              "data": "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",
              "ok": true,
              "headers": [
                [
                  "content-type",
                  "application/javascript"
                ]
              ],
              "status": 200,
              "status_text": ""
            }
          },
          "base_uri": "https://localhost:8080/",
          "height": 72
        },
        "id": "pLDKrqMMzmxq",
        "outputId": "45491351-8d62-40e1-b723-a8ae4a81ba19"
      },
      "source": [
        "# Import \"Noticias_Excel.xlsx\" or else it wont be able to read it on the next block\n",
        "from google.colab import files\n",
        "uploaded = files.upload() \n"
      ],
      "execution_count": 2,
      "outputs": [
        {
          "output_type": "display_data",
          "data": {
            "text/html": [
              "\n",
              "     <input type=\"file\" id=\"files-5789970b-6aad-41f4-92fb-c94c3ce5a67a\" name=\"files[]\" multiple disabled\n",
              "        style=\"border:none\" />\n",
              "     <output id=\"result-5789970b-6aad-41f4-92fb-c94c3ce5a67a\">\n",
              "      Upload widget is only available when the cell has been executed in the\n",
              "      current browser session. Please rerun this cell to enable.\n",
              "      </output>\n",
              "      <script src=\"/nbextensions/google.colab/files.js\"></script> "
            ],
            "text/plain": [
              "<IPython.core.display.HTML object>"
            ]
          },
          "metadata": {
            "tags": []
          }
        },
        {
          "output_type": "stream",
          "text": [
            "Saving Noticias_Excel.xlsx to Noticias_Excel.xlsx\n"
          ],
          "name": "stdout"
        }
      ]
    },
    {
      "cell_type": "code",
      "metadata": {
        "id": "45vv7UAMKMlx"
      },
      "source": [
        "from io import StringIO \n",
        "df = pd.read_excel('Noticias_Excel.xlsx') \n",
        "# We add a 'category_id' column useful for later operations such as building the confusion matrix\n",
        "# 0 --> Despoblacion, 1 --> No Despoblacion where 'Despoblacion' = Empty Spain & 'No Despoblacion' = any other topic (finance, business etc.)\n",
        "df['category_id'] = df['Category'].factorize()[0] "
      ],
      "execution_count": 3,
      "outputs": []
    },
    {
      "cell_type": "code",
      "metadata": {
        "id": "2wDV-e9TdRoU"
      },
      "source": [
        "# Remove duplicates and sort by category_id\n",
        "category_id_df = df[['Category', 'category_id']].drop_duplicates().sort_values('category_id') \n",
        "category_to_id = dict(category_id_df.values)\n",
        "id_to_category = dict(category_id_df[['category_id', 'Category']].values)"
      ],
      "execution_count": 4,
      "outputs": []
    },
    {
      "cell_type": "markdown",
      "metadata": {
        "id": "_hsnSiYMNU0K"
      },
      "source": [
        "## 2. Data exploration\r\n",
        "\r\n",
        "Before delving into machine learning model training, we must familiarize ourselves with the structure and characteristics of our dataset.\r\n",
        "\r\n",
        "We will first show a series of random examples and their structure:"
      ]
    },
    {
      "cell_type": "code",
      "metadata": {
        "colab": {
          "base_uri": "https://localhost:8080/",
          "height": 306
        },
        "id": "CM-x-fpjKMl0",
        "outputId": "b9d25bd3-8a6c-4fd2-ea1d-1569cd9f45e4"
      },
      "source": [
        "df.sample(5, random_state=0)"
      ],
      "execution_count": 5,
      "outputs": [
        {
          "output_type": "execute_result",
          "data": {
            "text/html": [
              "<div>\n",
              "<style scoped>\n",
              "    .dataframe tbody tr th:only-of-type {\n",
              "        vertical-align: middle;\n",
              "    }\n",
              "\n",
              "    .dataframe tbody tr th {\n",
              "        vertical-align: top;\n",
              "    }\n",
              "\n",
              "    .dataframe thead th {\n",
              "        text-align: right;\n",
              "    }\n",
              "</style>\n",
              "<table border=\"1\" class=\"dataframe\">\n",
              "  <thead>\n",
              "    <tr style=\"text-align: right;\">\n",
              "      <th></th>\n",
              "      <th>Titulo</th>\n",
              "      <th>Entradilla</th>\n",
              "      <th>Cuerpo</th>\n",
              "      <th>FechaPublicacion</th>\n",
              "      <th>Keywords</th>\n",
              "      <th>URL</th>\n",
              "      <th>Category</th>\n",
              "      <th>category_id</th>\n",
              "    </tr>\n",
              "  </thead>\n",
              "  <tbody>\n",
              "    <tr>\n",
              "      <th>7</th>\n",
              "      <td>Trasvase y despoblación: Castilla-La Mancha, l...</td>\n",
              "      <td>Las interesantes reflexiones de Miguel Ángel S...</td>\n",
              "      <td>Miguel Ángel Sánchez es técnico de la Asociaci...</td>\n",
              "      <td>2020-06-30T21:05:00+02:00</td>\n",
              "      <td>Emisoras, Castilla la Mancha</td>\n",
              "      <td>https://www.cope.es/emisoras/castilla-la-manch...</td>\n",
              "      <td>Despoblacion</td>\n",
              "      <td>0</td>\n",
              "    </tr>\n",
              "    <tr>\n",
              "      <th>24</th>\n",
              "      <td>Día del Soltero 2020: Estos son los cupones de...</td>\n",
              "      <td>Aliexpress ofrece una serie de cupones descuen...</td>\n",
              "      <td>El Día del Soltero 2020 ha llegado, y Aliexpre...</td>\n",
              "      <td>2020-11-11T14:00:07.091+01:00</td>\n",
              "      <td>\"Día del Soltero\",\"descuento\",\"AliExpress\"</td>\n",
              "      <td>https://www.antena3.com/noticias/tecnologia/di...</td>\n",
              "      <td>No Despoblacion</td>\n",
              "      <td>1</td>\n",
              "    </tr>\n",
              "    <tr>\n",
              "      <th>27</th>\n",
              "      <td>Cardassar y Marchamalo se clasifican en penalt...</td>\n",
              "      <td>Además, el CD Rincón, Racing Murcia, Anaitasun...</td>\n",
              "      <td>Este miércoles se ha disputado la eliminatoria...</td>\n",
              "      <td>2020-11-11T23:33:00+01:00</td>\n",
              "      <td>Deportes\",\"Fútbol</td>\n",
              "      <td>https://www.cope.es/deportes/futbol/noticias/c...</td>\n",
              "      <td>No Despoblacion</td>\n",
              "      <td>1</td>\n",
              "    </tr>\n",
              "    <tr>\n",
              "      <th>119</th>\n",
              "      <td>Cinco buenas noticias de este sábado para venc...</td>\n",
              "      <td>NaN</td>\n",
              "      <td>No se podrá administrar hasta el próximo año, ...</td>\n",
              "      <td>18/04/2020 - 8:15</td>\n",
              "      <td>NaN</td>\n",
              "      <td>NaN</td>\n",
              "      <td>Despoblacion</td>\n",
              "      <td>0</td>\n",
              "    </tr>\n",
              "    <tr>\n",
              "      <th>142</th>\n",
              "      <td>Celta y Eibar suman sin alardes</td>\n",
              "      <td>El equipo gallego, todavía sin Aspas, se adela...</td>\n",
              "      <td>Sumaron Celta y Eibar, que pueden ver la resol...</td>\n",
              "      <td>2021-01-24 - 19:44:20.178</td>\n",
              "      <td>NaN</td>\n",
              "      <td>NaN</td>\n",
              "      <td>No Despoblacion</td>\n",
              "      <td>1</td>\n",
              "    </tr>\n",
              "  </tbody>\n",
              "</table>\n",
              "</div>"
            ],
            "text/plain": [
              "                                                Titulo  ... category_id\n",
              "7    Trasvase y despoblación: Castilla-La Mancha, l...  ...           0\n",
              "24   Día del Soltero 2020: Estos son los cupones de...  ...           1\n",
              "27   Cardassar y Marchamalo se clasifican en penalt...  ...           1\n",
              "119  Cinco buenas noticias de este sábado para venc...  ...           0\n",
              "142                    Celta y Eibar suman sin alardes  ...           1\n",
              "\n",
              "[5 rows x 8 columns]"
            ]
          },
          "metadata": {
            "tags": []
          },
          "execution_count": 5
        }
      ]
    },
    {
      "cell_type": "code",
      "metadata": {
        "colab": {
          "base_uri": "https://localhost:8080/",
          "height": 370
        },
        "id": "8GU61mTp5kpC",
        "outputId": "81749ddb-4a36-49a5-a9b8-65d762e65c59"
      },
      "source": [
        "# We check if the data is balanced (in our case it is, perfect!)\r\n",
        "df.groupby('Category').Category.count().plot.bar(ylim=0)"
      ],
      "execution_count": 6,
      "outputs": [
        {
          "output_type": "execute_result",
          "data": {
            "text/plain": [
              "<matplotlib.axes._subplots.AxesSubplot at 0x7f9708ee72e8>"
            ]
          },
          "metadata": {
            "tags": []
          },
          "execution_count": 6
        },
        {
          "output_type": "display_data",
          "data": {
            "image/png": "[encoded data removed]",
            "text/plain": [
              "<Figure size 432x288 with 1 Axes>"
            ]
          },
          "metadata": {
            "tags": [],
            "needs_background": "light"
          }
        }
      ]
    },
    {
      "cell_type": "markdown",
      "metadata": {
        "id": "9yGrwZ7BNhLO"
      },
      "source": [
        "Here, we see that the number of items per class is balanced, which is helpful! If our dataset were unbalanced, we would need to carefully configure our model or artificially balance the dataset, for example, [undersampling or oversampling] in each class.\r\n",
        "\r\n",
        "To further analyze our data set, we must transform the text of each article into a feature vector, a list of numerical values ​​that represent some of the features in the text. This is because most ML models cannot process plain text, but only deal with numeric values.\r\n",
        "\r\n",
        "A common approach to extracting characteristics from text is to use the bag of words model: a model in which for each document, an article in our case, the presence (and often the frequency) of the words is taken into account, but the order in which they occur is ignored.\r\n",
        "\r\n",
        "Specifically, for each term in our data set, we will calculate a measure called Term Frequency, Inverse Document Frequency, abbreviated as tf-idf. This statistic represents the importance of the words in each document. We use the frequency of a word as a proxy for its importance: if \"depopulation\" is mentioned 25 times in a document, it could be more important than if it is mentioned only once. We also use document frequency (the number of documents that contain a given word) as a measure of how common the word is. This minimizes the effect of stop words like pronouns or domain-specific language that doesn't add much information (for example, a word like \"news\" that might be present in most documents).\r\n",
        "\r\n",
        "We will be using sklearn (aka scikit-learn), a machine learning library that is particularly accessible for beginners.\r\n",
        "We use the `TfidfVectorizer` class to calculate a` tf-idf` vector for each of our documents:\r\n",
        "\r\n",
        "`sklearn.feature_extraction.text.TfidfVectorizer` will be used to calculate a vector` tf-idf` for each of our documents. The following parameters are passed to this class:\r\n",
        "\r\n",
        "- `sublinear_df` is set to` True` to use a logarithmic form of frequency, to give diminishing returns as the frequency of a word increases. This is usually preferable for a number of reasons, one of which is [Zipf's Law] (https://en.wikipedia.org/wiki/Zipf%27s_law).\r\n",
        "- `min_df` is the minimum number of documents in which a word must be present to be preserved, and we are setting it to` 5`. This is to avoid weird words, which drastically increase the size of our functions and can cause [overfitting] (https://en.wikipedia.org/wiki/Overfitting).\r\n",
        "- `norm` is set to` l2`, to ensure that all our feature vectors have a Euclidean norm of 1. This is useful for visualizing these vectors and may also improve (or deteriorate) the performance of some models.\r\n",
        "- `encoding` is set to` utf-8`, which is used by our input text.\r\n",
        "- `ngram_range` is set to` (1, 2)` to indicate that we want to consider both unigrams and bigramas, or in other terms: we want to consider simple words (\"spain\", \"town\") and pairs of words (\"empty spain \",\" empty towns \").\r\n",
        "- Finally, `stop_words` is passed a file to remove all common pronouns (\" a \",\" some \",\" en \",\" the \"...) and further reduce the number of noisy features."
      ]
    },
    {
      "cell_type": "code",
      "metadata": {
        "colab": {
          "base_uri": "https://localhost:8080/"
        },
        "id": "mtmh4uCMKMl5",
        "outputId": "acf5e65d-c63c-4e6a-deb4-f9b1c2d31ae2"
      },
      "source": [
        "from sklearn.feature_extraction.text import TfidfVectorizer\n",
        "import nltk\n",
        "nltk.download('stopwords')\n",
        "\n",
        "from nltk.corpus import stopwords\n",
        "stopwords_list = [word for word in stopwords.words('spanish')]\n",
        "\n",
        "#TF-IDF lo vectoriza para saber la similitud de palabras, hace un podado de menos de 5 palabras no las tiene en cuenta, ngram junta palabras, stop words en español)\n",
        "tfidf = TfidfVectorizer(sublinear_tf=True, min_df=5, norm='l2', encoding='utf-8', ngram_range=(1, 2), stop_words=stopwords_list)\n",
        "features = tfidf.fit_transform(df.Cuerpo).toarray()\n",
        "labels = df.category_id\n",
        "features.shape"
      ],
      "execution_count": 7,
      "outputs": [
        {
          "output_type": "stream",
          "text": [
            "[nltk_data] Downloading package stopwords to /root/nltk_data...\n",
            "[nltk_data]   Unzipping corpora/stopwords.zip.\n"
          ],
          "name": "stdout"
        },
        {
          "output_type": "execute_result",
          "data": {
            "text/plain": [
              "(146, 849)"
            ]
          },
          "metadata": {
            "tags": []
          },
          "execution_count": 7
        }
      ]
    },
    {
      "cell_type": "markdown",
      "metadata": {
        "id": "dBZjib5SNsxN"
      },
      "source": [
        "Each of our 146 documents is now represented by 849 features, representing the tf-idf score for different unigrams and bigrams.\r\n",
        "\r\n",
        "This representation is useful not only to solve our classification task, but also to become familiar with the data set. For example, we can use the chi-square test to find the terms that are most correlated with each of the categories:"
      ]
    },
    {
      "cell_type": "code",
      "metadata": {
        "colab": {
          "base_uri": "https://localhost:8080/"
        },
        "id": "p5pkpgQsKMmN",
        "outputId": "52e3043f-303c-4389-ec1c-fcf6c93cf69e"
      },
      "source": [
        "# NOTE: chi2 test doesn't work very well with only two categories hence the results\n",
        "\n",
        "from sklearn.feature_selection import chi2\n",
        "import numpy as np\n",
        "\n",
        "# Select 5 most correlated unigrams and bigrams\n",
        "N = 5\n",
        "for Category, category_id in sorted(category_to_id.items()):\n",
        "  features_chi2 = chi2(features, labels == category_id)\n",
        "  indices = np.argsort(features_chi2[0])\n",
        "  feature_names = np.array(tfidf.get_feature_names())[indices]\n",
        "  unigrams = [v for v in feature_names if len(v.split(' ')) == 1]\n",
        "  bigrams = [v for v in feature_names if len(v.split(' ')) == 2]\n",
        "  print(\"# '{}':\".format(Category))\n",
        "  print(\"  . Most correlated unigrams:\\n       . {}\".format('\\n       . '.join(unigrams[-N:])))\n",
        "  print(\"  . Most correlated bigrams:\\n       . {}\".format('\\n       . '.join(bigrams[-N:])))\n"
      ],
      "execution_count": 8,
      "outputs": [
        {
          "output_type": "stream",
          "text": [
            "# 'Despoblacion':\n",
            "  . Most correlated unigrams:\n",
            "       . despoblación\n",
            "       . rurales\n",
            "       . vaciada\n",
            "       . zonas\n",
            "       . pueblos\n",
            "  . Most correlated bigrams:\n",
            "       . kilómetro cuadrado\n",
            "       . medio rural\n",
            "       . banda ancha\n",
            "       . zonas rurales\n",
            "       . españa vaciada\n",
            "# 'No Despoblacion':\n",
            "  . Most correlated unigrams:\n",
            "       . despoblación\n",
            "       . rurales\n",
            "       . vaciada\n",
            "       . zonas\n",
            "       . pueblos\n",
            "  . Most correlated bigrams:\n",
            "       . kilómetro cuadrado\n",
            "       . medio rural\n",
            "       . banda ancha\n",
            "       . zonas rurales\n",
            "       . españa vaciada\n"
          ],
          "name": "stdout"
        }
      ]
    },
    {
      "cell_type": "markdown",
      "metadata": {
        "id": "Go2fdG7RN8ys"
      },
      "source": [
        "Although this first test demonstrates the presence of specific terms for each category, there may still be too much noise in the data, making it impossible to clearly separate each category. One way to confirm that the feature space we are using is representative enough that our task (sorting items into separate labels) can be solved is to use dimensionality reduction techniques.\r\n",
        "\r\n",
        "Since our dataset contains natural language we will use t-SNE, a popular dimensionality reduction technique used in many fields, including NLP."
      ]
    },
    {
      "cell_type": "code",
      "metadata": {
        "colab": {
          "base_uri": "https://localhost:8080/",
          "height": 300
        },
        "id": "TMzD5rlhKMl9",
        "outputId": "5b6e9190-b3cf-456c-ef3e-99b40112a630"
      },
      "source": [
        "from sklearn.manifold import TSNE\n",
        "from matplotlib import pyplot as plt\n",
        "\n",
        "# Sampling a subset of our dataset because t-SNE is computationally expensive\n",
        "SAMPLE_SIZE = int(len(features) * 0.3)\n",
        "np.random.seed(0)\n",
        "indices = np.random.choice(range(len(features)), size=SAMPLE_SIZE, replace=False)\n",
        "projected_features = TSNE(n_components=2, random_state=0).fit_transform(features[indices])\n",
        "colors = ['pink', 'green', 'midnightblue', 'orange', 'darkgrey']\n",
        "for Category, category_id in sorted(category_to_id.items()):\n",
        "    points = projected_features[(labels[indices] == category_id).values]\n",
        "    plt.scatter(points[:, 0], points[:, 1], s=30, c=colors[category_id], label=Category)\n",
        "plt.title(\"tf-idf feature vector for each article, projected on 2 dimensions.\",\n",
        "          fontdict=dict(fontsize=15))\n",
        "plt.legend()"
      ],
      "execution_count": 9,
      "outputs": [
        {
          "output_type": "execute_result",
          "data": {
            "text/plain": [
              "<matplotlib.legend.Legend at 0x7f96f2ab1c88>"
            ]
          },
          "metadata": {
            "tags": []
          },
          "execution_count": 9
        },
        {
          "output_type": "display_data",
          "data": {
            "image/png": "[encoded data removed]",
            "text/plain": [
              "<Figure size 432x288 with 1 Axes>"
            ]
          },
          "metadata": {
            "tags": [],
            "needs_background": "light"
          }
        }
      ]
    },
    {
      "cell_type": "markdown",
      "metadata": {
        "id": "754g0maZOCgE"
      },
      "source": [
        "Because our news set does not have so many documents, in this graph it is not possible to see the clarity of the separation of \"Depopulation\" and \"No Depopulation\" categories. If more data were added, it could be clearly seen that the news of one category are grouped in one place and those of the other category in another, achieving better performance. Of course, there could be some outlier which are points from one category that are in the middle of a different category."
      ]
    },
    {
      "cell_type": "code",
      "metadata": {
        "colab": {
          "base_uri": "https://localhost:8080/",
          "height": 1000
        },
        "id": "s5fao3PD4ki9",
        "outputId": "5392c03f-c09d-4a60-ae78-530147811c1d"
      },
      "source": [
        "# We check which articles contain the world 'town' in its body\r\n",
        "df[df.Cuerpo.str.contains('pueblo')]"
      ],
      "execution_count": 10,
      "outputs": [
        {
          "output_type": "execute_result",
          "data": {
            "text/html": [
              "<div>\n",
              "<style scoped>\n",
              "    .dataframe tbody tr th:only-of-type {\n",
              "        vertical-align: middle;\n",
              "    }\n",
              "\n",
              "    .dataframe tbody tr th {\n",
              "        vertical-align: top;\n",
              "    }\n",
              "\n",
              "    .dataframe thead th {\n",
              "        text-align: right;\n",
              "    }\n",
              "</style>\n",
              "<table border=\"1\" class=\"dataframe\">\n",
              "  <thead>\n",
              "    <tr style=\"text-align: right;\">\n",
              "      <th></th>\n",
              "      <th>Titulo</th>\n",
              "      <th>Entradilla</th>\n",
              "      <th>Cuerpo</th>\n",
              "      <th>FechaPublicacion</th>\n",
              "      <th>Keywords</th>\n",
              "      <th>URL</th>\n",
              "      <th>Category</th>\n",
              "      <th>category_id</th>\n",
              "    </tr>\n",
              "  </thead>\n",
              "  <tbody>\n",
              "    <tr>\n",
              "      <th>0</th>\n",
              "      <td>¿Ayudaría a la España vaciada un Ministerio pa...</td>\n",
              "      <td>Los vecinos de la España vaciada han explicado...</td>\n",
              "      <td>Los vecinos de la España vaciada reclaman la n...</td>\n",
              "      <td>2019-11-16T19:13:16.219+01:00</td>\n",
              "      <td>España despoblada, España Vaciada, video</td>\n",
              "      <td>https://www.antena3.com/noticias/sociedad/ayud...</td>\n",
              "      <td>Despoblacion</td>\n",
              "      <td>0</td>\n",
              "    </tr>\n",
              "    <tr>\n",
              "      <th>1</th>\n",
              "      <td>La España vaciada frena la despoblación gracia...</td>\n",
              "      <td>Hispana Nostra es la única plataforma que divu...</td>\n",
              "      <td>En la España vaciada, cualquier estrategia es ...</td>\n",
              "      <td>2020-01-11T19:33:16.758+01:00</td>\n",
              "      <td>video, España vaciada, arte</td>\n",
              "      <td>https://www.antena3.com/noticias/sociedad/la-e...</td>\n",
              "      <td>Despoblacion</td>\n",
              "      <td>0</td>\n",
              "    </tr>\n",
              "    <tr>\n",
              "      <th>2</th>\n",
              "      <td>Zamora es la provincia española que más ha suf...</td>\n",
              "      <td>Acceder a los servicios sanitarios no siempre ...</td>\n",
              "      <td>La diputación provincial de Soria ha decidido ...</td>\n",
              "      <td>2020-01-12T16:48:17.532+01:00</td>\n",
              "      <td>video, Navalacruz' Centro Medico' Zamora' desp...</td>\n",
              "      <td>https://www.antena3.com/noticias/sociedad/zamo...</td>\n",
              "      <td>Despoblacion</td>\n",
              "      <td>0</td>\n",
              "    </tr>\n",
              "    <tr>\n",
              "      <th>3</th>\n",
              "      <td>España vacía: Buscan en Soria camareros para f...</td>\n",
              "      <td>La diputación provincial de Soria ha decidido ...</td>\n",
              "      <td>La diputación provincial de Soria ha decidido ...</td>\n",
              "      <td>2020-01-28T14:13:49.179+01:00</td>\n",
              "      <td>Camareros, soria</td>\n",
              "      <td>https://www.antena3.com/noticias/economia/se-b...</td>\n",
              "      <td>Despoblacion</td>\n",
              "      <td>0</td>\n",
              "    </tr>\n",
              "    <tr>\n",
              "      <th>4</th>\n",
              "      <td>La España vacía se queda sin cuarteles de la G...</td>\n",
              "      <td>En España hay 2300 cuarteles y mantenerlos es ...</td>\n",
              "      <td>La España vacía se queda también sin cuarteles...</td>\n",
              "      <td>2020-01-21T18:51:56.854+01:00</td>\n",
              "      <td>Guardia Civil, cuarteles, españa vacia</td>\n",
              "      <td>https://www.antena3.com/noticias/sociedad/la-e...</td>\n",
              "      <td>Despoblacion</td>\n",
              "      <td>0</td>\n",
              "    </tr>\n",
              "    <tr>\n",
              "      <th>5</th>\n",
              "      <td>Cinco iniciativas que buscan repoblar la Españ...</td>\n",
              "      <td>La vivienda, el reparto a domicilio o las nuev...</td>\n",
              "      <td>En tiempos en los que la masificación y el tra...</td>\n",
              "      <td>2020-03-28T02:10:00+01:00</td>\n",
              "      <td>pueblos, actualidad, pueblo, planes, la españa...</td>\n",
              "      <td>https://www.cope.es/actualidad/sociedad/espana...</td>\n",
              "      <td>Despoblacion</td>\n",
              "      <td>0</td>\n",
              "    </tr>\n",
              "    <tr>\n",
              "      <th>6</th>\n",
              "      <td>La despoblación en España vista desde un puebl...</td>\n",
              "      <td>En La Noche de COPE conocemos más a fondo cómo...</td>\n",
              "      <td>A veces la tierra natal es hostil para encontr...</td>\n",
              "      <td>2019-03-12T10:48:00+01:00</td>\n",
              "      <td>Actualidad, Pueblo, Ciudades, Programas, la no...</td>\n",
              "      <td>https://www.cope.es/programas/la-noche/audios/...</td>\n",
              "      <td>Despoblacion</td>\n",
              "      <td>0</td>\n",
              "    </tr>\n",
              "    <tr>\n",
              "      <th>7</th>\n",
              "      <td>Trasvase y despoblación: Castilla-La Mancha, l...</td>\n",
              "      <td>Las interesantes reflexiones de Miguel Ángel S...</td>\n",
              "      <td>Miguel Ángel Sánchez es técnico de la Asociaci...</td>\n",
              "      <td>2020-06-30T21:05:00+02:00</td>\n",
              "      <td>Emisoras, Castilla la Mancha</td>\n",
              "      <td>https://www.cope.es/emisoras/castilla-la-manch...</td>\n",
              "      <td>Despoblacion</td>\n",
              "      <td>0</td>\n",
              "    </tr>\n",
              "    <tr>\n",
              "      <th>8</th>\n",
              "      <td>Despoblación: la lucha de la España Vaciada</td>\n",
              "      <td>Te presentamos gente que nos cuenta sus proble...</td>\n",
              "      <td>No es raro que las personas que viven en los p...</td>\n",
              "      <td>2020-03-02T21:11:00+01:00</td>\n",
              "      <td>Programas, La Linterna, El tema del dia</td>\n",
              "      <td>https://www.cope.es/programas/la-linterna/el-t...</td>\n",
              "      <td>Despoblacion</td>\n",
              "      <td>0</td>\n",
              "    </tr>\n",
              "    <tr>\n",
              "      <th>9</th>\n",
              "      <td>Pueblos Vivos Jacetania proyecta nuevas accion...</td>\n",
              "      <td>Entre ellas, el ciclo de formación y dinamizac...</td>\n",
              "      <td>El proyecto Pueblos Vivos Jacetania ha iniciad...</td>\n",
              "      <td>2020-10-19T12:45:00+02:00</td>\n",
              "      <td>Emisoras, Aragon, Huesca provincia, Jaca, La M...</td>\n",
              "      <td>https://www.cope.es/emisoras/aragon/huesca-pro...</td>\n",
              "      <td>Despoblacion</td>\n",
              "      <td>0</td>\n",
              "    </tr>\n",
              "    <tr>\n",
              "      <th>11</th>\n",
              "      <td>La España vaciada, más vacía que nunca por el ...</td>\n",
              "      <td>Sus habitantes se enfrentan al coronavirus con...</td>\n",
              "      <td>En los pueblos de la España vaciada el confina...</td>\n",
              "      <td>2020-03-28T18:44:29.051+01:00</td>\n",
              "      <td>epidemia, coronavirus, noticias ultima hora, e...</td>\n",
              "      <td>https://www.lasexta.com/noticias/nacional/la-e...</td>\n",
              "      <td>Despoblacion</td>\n",
              "      <td>0</td>\n",
              "    </tr>\n",
              "    <tr>\n",
              "      <th>12</th>\n",
              "      <td>La población confinada busca a la España despo...</td>\n",
              "      <td>El confinamiento ha hecho que muchos ciudadano...</td>\n",
              "      <td>El coronavirus ha golpeado con mayor dureza en...</td>\n",
              "      <td>2020-05-22T19:47:05.5+02:00</td>\n",
              "      <td>España vaciada, despoblación, España rural, la...</td>\n",
              "      <td>https://www.lasexta.com/programas/sexta-column...</td>\n",
              "      <td>Despoblacion</td>\n",
              "      <td>0</td>\n",
              "    </tr>\n",
              "    <tr>\n",
              "      <th>13</th>\n",
              "      <td>La población confinada busca a la España despo...</td>\n",
              "      <td>El confinamiento ha hecho que muchos ciudadano...</td>\n",
              "      <td>El coronavirus ha golpeado con mayor dureza en...</td>\n",
              "      <td>2020-05-22T19:47:05.5+02:00</td>\n",
              "      <td>España vaciada, despoblación, España rural, la...</td>\n",
              "      <td>https://www.lasexta.com/programas/sexta-column...</td>\n",
              "      <td>Despoblacion</td>\n",
              "      <td>0</td>\n",
              "    </tr>\n",
              "    <tr>\n",
              "      <th>14</th>\n",
              "      <td>El enfado de la España vaciada: 'Los ancianos ...</td>\n",
              "      <td>Vicky reparte alimentos de primera necesidad e...</td>\n",
              "      <td>Dos de cada tres pueblos en Soria tiene menos ...</td>\n",
              "      <td>2020-04-19T21:39:55.194+02:00</td>\n",
              "      <td>Lo de Évole, Jordi Évole, Coronavirus, Covid-1...</td>\n",
              "      <td>https://www.lasexta.com/programas/lo-de-evole/...</td>\n",
              "      <td>Despoblacion</td>\n",
              "      <td>0</td>\n",
              "    </tr>\n",
              "    <tr>\n",
              "      <th>30</th>\n",
              "      <td>La despoblación en España vista desde un puebl...</td>\n",
              "      <td>En 'La Noche de COPE' conocemos más a fondo có...</td>\n",
              "      <td>A veces la tierra natal es hostil para encontr...</td>\n",
              "      <td>2019-03-12T10:48:00+01:00</td>\n",
              "      <td>NaN</td>\n",
              "      <td>https://www.cope.es/programas/la-noche/audios/...</td>\n",
              "      <td>Despoblacion</td>\n",
              "      <td>0</td>\n",
              "    </tr>\n",
              "    <tr>\n",
              "      <th>32</th>\n",
              "      <td>Despoblación: la lucha de la España Vaciada</td>\n",
              "      <td>Te presentamos gente que nos cuenta sus proble...</td>\n",
              "      <td>No es raro que las personas que viven en los p...</td>\n",
              "      <td>2020-03-02T21:11:00+01:00</td>\n",
              "      <td>NaN</td>\n",
              "      <td>https://www.cope.es/programas/la-linterna/el-t...</td>\n",
              "      <td>Despoblacion</td>\n",
              "      <td>0</td>\n",
              "    </tr>\n",
              "    <tr>\n",
              "      <th>33</th>\n",
              "      <td>Pueblos Vivos Jacetania proyecta nuevas accion...</td>\n",
              "      <td>Entre ellas, el ciclo de formación y dinamizac...</td>\n",
              "      <td>El proyecto Pueblos Vivos Jacetania ha iniciad...</td>\n",
              "      <td>2020-10-19T12:45:00+02:00</td>\n",
              "      <td>NaN</td>\n",
              "      <td>https://www.cope.es/emisoras/aragon/huesca-pro...</td>\n",
              "      <td>Despoblacion</td>\n",
              "      <td>0</td>\n",
              "    </tr>\n",
              "    <tr>\n",
              "      <th>36</th>\n",
              "      <td>Danone, Nestlé, Campofrío y ElPozo reivindican...</td>\n",
              "      <td>Representantes de las marcas de fabricante de ...</td>\n",
              "      <td>Representantes de las marcas de fabricante de ...</td>\n",
              "      <td>2020-10-07T16:34:02+02:00</td>\n",
              "      <td>NaN</td>\n",
              "      <td>https://www.merca2.es/danone-nestle-campofrio-...</td>\n",
              "      <td>Despoblacion</td>\n",
              "      <td>0</td>\n",
              "    </tr>\n",
              "    <tr>\n",
              "      <th>39</th>\n",
              "      <td>La España vaciada acoge a los urbanitas que ap...</td>\n",
              "      <td>El confinamiento por la pandemia del coronavir...</td>\n",
              "      <td>Las seis semanas de confinamiento que lleva la...</td>\n",
              "      <td>2020-04-26T05:35:00+02:00</td>\n",
              "      <td>NaN</td>\n",
              "      <td>https://www.merca2.es/espana-vaciada-acoge-urb...</td>\n",
              "      <td>Despoblacion</td>\n",
              "      <td>0</td>\n",
              "    </tr>\n",
              "    <tr>\n",
              "      <th>40</th>\n",
              "      <td>11 son los pueblos de España que cuentan a sus...</td>\n",
              "      <td>En dos de estos 11 pueblos bastan incluso los ...</td>\n",
              "      <td>De un tiempo a esta parte la España Vaciada se...</td>\n",
              "      <td>2020-01-15T09:31:11.842+01:00</td>\n",
              "      <td>NaN</td>\n",
              "      <td>https://www.lasexta.com/viajestic/escapadas/so...</td>\n",
              "      <td>Despoblacion</td>\n",
              "      <td>0</td>\n",
              "    </tr>\n",
              "    <tr>\n",
              "      <th>42</th>\n",
              "      <td>La cara más dura de vivir en el medio rural: '...</td>\n",
              "      <td>Los animales no entienden de horarios y los pe...</td>\n",
              "      <td>Lydia Bermejo vive en Aranda de Moncayo, en Za...</td>\n",
              "      <td>2020-05-22T20:14:12.326+02:00</td>\n",
              "      <td>NaN</td>\n",
              "      <td>https://www.lasexta.com/programas/sexta-column...</td>\n",
              "      <td>Despoblacion</td>\n",
              "      <td>0</td>\n",
              "    </tr>\n",
              "    <tr>\n",
              "      <th>43</th>\n",
              "      <td>La población confinada busca a la España despo...</td>\n",
              "      <td>El confinamiento ha hecho que muchos ciudadano...</td>\n",
              "      <td>El coronavirus ha golpeado con mayor dureza en...</td>\n",
              "      <td>2020-05-22T19:47:05.5+02:00</td>\n",
              "      <td>NaN</td>\n",
              "      <td>https://www.lasexta.com/programas/sexta-column...</td>\n",
              "      <td>Despoblacion</td>\n",
              "      <td>0</td>\n",
              "    </tr>\n",
              "    <tr>\n",
              "      <th>44</th>\n",
              "      <td>¿Medidas urbanocentristas?: la España en la qu...</td>\n",
              "      <td>La España vaciada ha cumplido, como las grande...</td>\n",
              "      <td>El coronavirus ha vaciado nuestras ciudades, p...</td>\n",
              "      <td>2020-05-21T16:47:26.698+02:00</td>\n",
              "      <td>NaN</td>\n",
              "      <td>https://www.lasexta.com/programas/sexta-column...</td>\n",
              "      <td>Despoblacion</td>\n",
              "      <td>0</td>\n",
              "    </tr>\n",
              "    <tr>\n",
              "      <th>52</th>\n",
              "      <td>Mediaset recicla a sus presentadores 'ociosos'...</td>\n",
              "      <td>Las campañas de Ferrero Rocher en el grupo Med...</td>\n",
              "      <td>Las campañas de Ferrero Rocher en Mediaset se ...</td>\n",
              "      <td>2020-11-15T05:35:41+01:00</td>\n",
              "      <td>NaN</td>\n",
              "      <td>https://www.merca2.es/mediaset-presentadores-o...</td>\n",
              "      <td>No Despoblacion</td>\n",
              "      <td>1</td>\n",
              "    </tr>\n",
              "    <tr>\n",
              "      <th>61</th>\n",
              "      <td>España vacía: Buscan en Soria camareros para f...</td>\n",
              "      <td>\"La diputación provincial de Soria ha decidido...</td>\n",
              "      <td>La diputación provincial de Soria ha decidido ...</td>\n",
              "      <td>NaN</td>\n",
              "      <td>NaN</td>\n",
              "      <td>https://www.antena3.com/noticias/economia/se-b...</td>\n",
              "      <td>Despoblacion</td>\n",
              "      <td>0</td>\n",
              "    </tr>\n",
              "    <tr>\n",
              "      <th>62</th>\n",
              "      <td>Un pueblo de Soria busca diez familias que qui...</td>\n",
              "      <td>\"En el pueblo de Soria de El Royo han encontra...</td>\n",
              "      <td>La localidad soriana de El Royo busca diez fam...</td>\n",
              "      <td>NaN</td>\n",
              "      <td>NaN</td>\n",
              "      <td>https://www.antena3.com/noticias/sociedad/pueb...</td>\n",
              "      <td>Despoblacion</td>\n",
              "      <td>0</td>\n",
              "    </tr>\n",
              "    <tr>\n",
              "      <th>63</th>\n",
              "      <td>La España vaciada frena la despoblación gracia...</td>\n",
              "      <td>\"Hispana Nostra es la única plataforma que div...</td>\n",
              "      <td>En la España vaciada, cualquier estrategia es ...</td>\n",
              "      <td>NaN</td>\n",
              "      <td>NaN</td>\n",
              "      <td>https://www.antena3.com/noticias/sociedad/la-e...</td>\n",
              "      <td>Despoblacion</td>\n",
              "      <td>0</td>\n",
              "    </tr>\n",
              "    <tr>\n",
              "      <th>64</th>\n",
              "      <td>Zamora es la provincia española que más ha suf...</td>\n",
              "      <td>\"Acceder a los servicios sanitarios no siempre...</td>\n",
              "      <td>Acceder a servicios sanitarios cuando se resid...</td>\n",
              "      <td>NaN</td>\n",
              "      <td>NaN</td>\n",
              "      <td>https://www.antena3.com/noticias/sociedad/zamo...</td>\n",
              "      <td>Despoblacion</td>\n",
              "      <td>0</td>\n",
              "    </tr>\n",
              "    <tr>\n",
              "      <th>70</th>\n",
              "      <td>Vecinos de El Bierzo contra la despoblación- T...</td>\n",
              "      <td>En el Bierzo hay 14 pueblos con menos de 10 ha...</td>\n",
              "      <td>En el Bierzo hay 14 pueblos con menos de 10 ha...</td>\n",
              "      <td>NaN</td>\n",
              "      <td>NaN</td>\n",
              "      <td>https://www.telecinco.es/informativos/sociedad...</td>\n",
              "      <td>Despoblacion</td>\n",
              "      <td>0</td>\n",
              "    </tr>\n",
              "    <tr>\n",
              "      <th>71</th>\n",
              "      <td>Los pueblos buscan familias para residir en el...</td>\n",
              "      <td>Los pueblos mas pequeños de España se están qu...</td>\n",
              "      <td>Los pueblos mas pequeños de España se están qu...</td>\n",
              "      <td>NaN</td>\n",
              "      <td>NaN</td>\n",
              "      <td>https://www.telecinco.es/informativos/sociedad...</td>\n",
              "      <td>Despoblacion</td>\n",
              "      <td>0</td>\n",
              "    </tr>\n",
              "    <tr>\n",
              "      <th>72</th>\n",
              "      <td>'La España vaciada' llena el centro de Madrid ...</td>\n",
              "      <td>Una histórica y multitudinaria manifestación h...</td>\n",
              "      <td>Es la también llamada \\\"revuelta de la España ...</td>\n",
              "      <td>NaN</td>\n",
              "      <td>NaN</td>\n",
              "      <td>https://www.telecinco.es/informativos/sociedad...</td>\n",
              "      <td>Despoblacion</td>\n",
              "      <td>0</td>\n",
              "    </tr>\n",
              "    <tr>\n",
              "      <th>73</th>\n",
              "      <td>La España vaciada también se queda sin bares -...</td>\n",
              "      <td>Una escena tan cotidiana como pedir un café en...</td>\n",
              "      <td>Una escena tan cotidiana como pedir un café en...</td>\n",
              "      <td>NaN</td>\n",
              "      <td>NaN</td>\n",
              "      <td>https://www.telecinco.es/informativos/sociedad...</td>\n",
              "      <td>Despoblacion</td>\n",
              "      <td>0</td>\n",
              "    </tr>\n",
              "    <tr>\n",
              "      <th>80</th>\n",
              "      <td>\"La España vaciada\"</td>\n",
              "      <td>\"“Emplear los impuestos para castigar a los ri...</td>\n",
              "      <td>El pasado dos de febrero, a la una de la tarde...</td>\n",
              "      <td>NaN</td>\n",
              "      <td>NaN</td>\n",
              "      <td>https://www.vozpopuli.com/opinion/Espana-vacia...</td>\n",
              "      <td>Despoblacion</td>\n",
              "      <td>0</td>\n",
              "    </tr>\n",
              "    <tr>\n",
              "      <th>81</th>\n",
              "      <td>\"La España vaciada\"</td>\n",
              "      <td>\"“Emplear los impuestos para castigar a los ri...</td>\n",
              "      <td>El pasado dos de febrero, a la una de la tarde...</td>\n",
              "      <td>NaN</td>\n",
              "      <td>NaN</td>\n",
              "      <td>https://www.vozpopuli.com/opinion/Espana-vacia...</td>\n",
              "      <td>Despoblacion</td>\n",
              "      <td>0</td>\n",
              "    </tr>\n",
              "    <tr>\n",
              "      <th>101</th>\n",
              "      <td>Apadrinaunolivo.org impulsa un centro de empre...</td>\n",
              "      <td>NaN</td>\n",
              "      <td>Apadrinaunolivo.org está trabajando para poner...</td>\n",
              "      <td>30/10/2020 - 20:00</td>\n",
              "      <td>NaN</td>\n",
              "      <td>NaN</td>\n",
              "      <td>Despoblacion</td>\n",
              "      <td>0</td>\n",
              "    </tr>\n",
              "    <tr>\n",
              "      <th>118</th>\n",
              "      <td>Eurona estima que el confinamiento multiplica ...</td>\n",
              "      <td>NaN</td>\n",
              "      <td>El Estado de Alarma decretado por el Gobierno ...</td>\n",
              "      <td>21/04/2020 - 11:55</td>\n",
              "      <td>NaN</td>\n",
              "      <td>NaN</td>\n",
              "      <td>Despoblacion</td>\n",
              "      <td>0</td>\n",
              "    </tr>\n",
              "    <tr>\n",
              "      <th>145</th>\n",
              "      <td>“Le plantaba cara o me suicidaba”</td>\n",
              "      <td>La primera de las 12 gimnastas que denunciaron...</td>\n",
              "      <td>“La gimnasia artística era mi vida y mi todo. ...</td>\n",
              "      <td>2021-01-23 - 21:23:11.980</td>\n",
              "      <td>NaN</td>\n",
              "      <td>NaN</td>\n",
              "      <td>No Despoblacion</td>\n",
              "      <td>1</td>\n",
              "    </tr>\n",
              "  </tbody>\n",
              "</table>\n",
              "</div>"
            ],
            "text/plain": [
              "                                                Titulo  ... category_id\n",
              "0    ¿Ayudaría a la España vaciada un Ministerio pa...  ...           0\n",
              "1    La España vaciada frena la despoblación gracia...  ...           0\n",
              "2    Zamora es la provincia española que más ha suf...  ...           0\n",
              "3    España vacía: Buscan en Soria camareros para f...  ...           0\n",
              "4    La España vacía se queda sin cuarteles de la G...  ...           0\n",
              "5    Cinco iniciativas que buscan repoblar la Españ...  ...           0\n",
              "6    La despoblación en España vista desde un puebl...  ...           0\n",
              "7    Trasvase y despoblación: Castilla-La Mancha, l...  ...           0\n",
              "8          Despoblación: la lucha de la España Vaciada  ...           0\n",
              "9    Pueblos Vivos Jacetania proyecta nuevas accion...  ...           0\n",
              "11   La España vaciada, más vacía que nunca por el ...  ...           0\n",
              "12   La población confinada busca a la España despo...  ...           0\n",
              "13   La población confinada busca a la España despo...  ...           0\n",
              "14   El enfado de la España vaciada: 'Los ancianos ...  ...           0\n",
              "30   La despoblación en España vista desde un puebl...  ...           0\n",
              "32         Despoblación: la lucha de la España Vaciada  ...           0\n",
              "33   Pueblos Vivos Jacetania proyecta nuevas accion...  ...           0\n",
              "36   Danone, Nestlé, Campofrío y ElPozo reivindican...  ...           0\n",
              "39   La España vaciada acoge a los urbanitas que ap...  ...           0\n",
              "40   11 son los pueblos de España que cuentan a sus...  ...           0\n",
              "42   La cara más dura de vivir en el medio rural: '...  ...           0\n",
              "43   La población confinada busca a la España despo...  ...           0\n",
              "44   ¿Medidas urbanocentristas?: la España en la qu...  ...           0\n",
              "52   Mediaset recicla a sus presentadores 'ociosos'...  ...           1\n",
              "61   España vacía: Buscan en Soria camareros para f...  ...           0\n",
              "62   Un pueblo de Soria busca diez familias que qui...  ...           0\n",
              "63   La España vaciada frena la despoblación gracia...  ...           0\n",
              "64   Zamora es la provincia española que más ha suf...  ...           0\n",
              "70   Vecinos de El Bierzo contra la despoblación- T...  ...           0\n",
              "71   Los pueblos buscan familias para residir en el...  ...           0\n",
              "72   'La España vaciada' llena el centro de Madrid ...  ...           0\n",
              "73   La España vaciada también se queda sin bares -...  ...           0\n",
              "80                                 \"La España vaciada\"  ...           0\n",
              "81                                 \"La España vaciada\"  ...           0\n",
              "101  Apadrinaunolivo.org impulsa un centro de empre...  ...           0\n",
              "118  Eurona estima que el confinamiento multiplica ...  ...           0\n",
              "145                 “Le plantaba cara o me suicidaba”   ...           1\n",
              "\n",
              "[37 rows x 8 columns]"
            ]
          },
          "metadata": {
            "tags": []
          },
          "execution_count": 10
        }
      ]
    },
    {
      "cell_type": "markdown",
      "metadata": {
        "id": "yPrfxDfoE6K8"
      },
      "source": [
        "As we can see in the * news item 52 or 145 *, it deals with \"No Depopulation\" although the word \"town\" is used and in most cases this news is classified as \"Depopulation\", so this news is an atypical value.\r\n"
      ]
    },
    {
      "cell_type": "markdown",
      "metadata": {
        "id": "1XwFNO4re_Fz"
      },
      "source": [
        "## 3. Model training and evaluation"
      ]
    },
    {
      "cell_type": "markdown",
      "metadata": {
        "id": "-kSd_sw0OLs4"
      },
      "source": [
        "### **Metric**\r\n",
        "\r\n",
        "Since we are dealing with a news classification task and since it is a balanced dataset we will use the precision (accuracy) metric."
      ]
    },
    {
      "cell_type": "markdown",
      "metadata": {
        "id": "s9-SDz2NOcc3"
      },
      "source": [
        "### **Model selection**\r\n",
        "\r\n",
        "- **Logistic Regression**: A linear classifier, mostly similar to traditional linear regression, but fitting the output of the logistic function.\r\n",
        "\r\n",
        "- **(Multinomial) Naive Bayes**: A Bayesian model, assuming full independence between features, which works surprisingly well with the Bag of Words model, and was used primarily for spam detection.\r\n",
        "\r\n",
        "- **Random Forest**: Is the set of a large number of decision trees, each one trained in a random subset of the input characteristics. They work well when it comes to complex feature relationships and are relatively resistant to overfitting.\r\n",
        "\r\n",
        "- **SVC**: Are a set of supervised learning methods used for classification, regression and detection of outliers. The advantages of SVM are that they are effective in large spaces. It is still effective in cases where the number of dimensions is greater than the number of samples.\r\n",
        "\r\n",
        "- **KNeighborsClassifier**: The K Neighbors algorithm is a non-parametric machine learning method. It is used for classification and regression. In both cases, the input consists of the k closest training examples in the feature space.\r\n"
      ]
    },
    {
      "cell_type": "markdown",
      "metadata": {
        "id": "pJ_l3zrQhuAv"
      },
      "source": [
        "### **Model evaluation**\n",
        "\n",
        "We will divide the dataset into two sets:\n",
        "\n",
        "- A training set in which the model will be trained.\n",
        "- A validation set to obtain the precision of the model.\n",
        "\n",
        "To evaluate each model, we will use the K-fold cross validation technique, with 10 folds so that we obtain 10% (1 fold) of the data for validation and 90% (9 folds) of the data for training: training iteratively the model on different subsets of data and testing against the obtained data to avoid common problems such as \"overfitting\" (the model performs well in the training set but achieves poor results in the validation set) and \"underfitting\" (the model gets very poor results in the validation set and usually also in the training set)."
      ]
    },
    {
      "cell_type": "code",
      "metadata": {
        "id": "MPI84Fkoel-a"
      },
      "source": [
        "from sklearn.linear_model import LogisticRegression\n",
        "from sklearn.ensemble import RandomForestClassifier\n",
        "from sklearn.naive_bayes import MultinomialNB\n",
        "from sklearn.svm import SVC\n",
        "from sklearn.neighbors import KNeighborsClassifier\n",
        "\n",
        "from sklearn.model_selection import cross_val_score\n",
        "\n",
        "models = [\n",
        "    RandomForestClassifier(n_estimators=200, max_depth=3, random_state=0),\n",
        "    MultinomialNB(),\n",
        "    LogisticRegression(random_state=0),\n",
        "    SVC(),\n",
        "    KNeighborsClassifier(),\n",
        "]\n",
        "# 10 folds\n",
        "CV = 10\n",
        "cv_df = pd.DataFrame(index=range(CV * len(models)))\n",
        "entries = []\n",
        "for model in models:\n",
        "  model_name = model.__class__.__name__\n",
        "  accuracies = cross_val_score(model, features, labels, scoring='accuracy', cv=CV)\n",
        "  for fold_idx, accuracy in enumerate(accuracies):\n",
        "    entries.append((model_name, fold_idx, accuracy))\n",
        "cv_df = pd.DataFrame(entries, columns=['model_name', 'fold_idx', 'accuracy'])"
      ],
      "execution_count": 11,
      "outputs": []
    },
    {
      "cell_type": "code",
      "metadata": {
        "colab": {
          "base_uri": "https://localhost:8080/",
          "height": 569
        },
        "id": "njwq4ZqntBXn",
        "outputId": "bb44400b-965e-46a9-9153-d5245fb2a8f9"
      },
      "source": [
        "# Plot box diagram to see the accuracy and variance of the models\n",
        "import seaborn as sns\n",
        "\n",
        "fig_dims = (10, 9) #x, y\n",
        "fig, ax = plt.subplots(figsize=fig_dims)\n",
        "\n",
        "sns.boxplot(x='model_name', y='accuracy', data=cv_df)\n",
        "sns.stripplot(x='model_name', y='accuracy', data=cv_df, \n",
        "              size=8, jitter=True, edgecolor=\"black\", linewidth=2)"
      ],
      "execution_count": 12,
      "outputs": [
        {
          "output_type": "execute_result",
          "data": {
            "text/plain": [
              "<matplotlib.axes._subplots.AxesSubplot at 0x7f96e691c780>"
            ]
          },
          "metadata": {
            "tags": []
          },
          "execution_count": 12
        },
        {
          "output_type": "display_data",
          "data": {
            "image/png": "[encoded data removed]",
            "text/plain": [
              "<Figure size 720x648 with 1 Axes>"
            ]
          },
          "metadata": {
            "tags": [],
            "needs_background": "light"
          }
        }
      ]
    },
    {
      "cell_type": "code",
      "metadata": {
        "colab": {
          "base_uri": "https://localhost:8080/"
        },
        "id": "-DX1gVduotvA",
        "outputId": "fe2161d2-32f1-4474-e7d3-d2e997cdcdb8"
      },
      "source": [
        "# Obtain the best accuracy model (we also observe its variance above to check if its the best)\r\n",
        "cv_df.groupby('model_name').accuracy.mean()"
      ],
      "execution_count": 13,
      "outputs": [
        {
          "output_type": "execute_result",
          "data": {
            "text/plain": [
              "model_name\n",
              "KNeighborsClassifier      0.847143\n",
              "LogisticRegression        0.923810\n",
              "MultinomialNB             0.902857\n",
              "RandomForestClassifier    0.844762\n",
              "SVC                       0.909524\n",
              "Name: accuracy, dtype: float64"
            ]
          },
          "metadata": {
            "tags": []
          },
          "execution_count": 13
        }
      ]
    },
    {
      "cell_type": "markdown",
      "metadata": {
        "id": "WblCxMJnOnIg"
      },
      "source": [
        "The results of the RandomForest and K-Neighbors model show a large variance, a sign that we are facing an \"overfitting\" problem. We also observed that the best model is LogisticRegression with a precision of 92.4% and a small variance, followed by SVC with a precision of 91% and MultinomialNB (Naive Bayes) with a precision of 90.3% and a variance greater than the previous ones."
      ]
    },
    {
      "cell_type": "markdown",
      "metadata": {
        "id": "zrYPgSQjOrIu"
      },
      "source": [
        "### 4. Model interpretation\r\n",
        "\r\n",
        "Now that we have the best model, looking deeper into the model interpretation we also observe the confusion matrix to see how many true false (among other things) our model predicts: where each column of the matrix represents the number of predictions of each class, while each row represents the true cases of class."
      ]
    },
    {
      "cell_type": "code",
      "metadata": {
        "id": "zE5u-IEa5gnj"
      },
      "source": [
        "from sklearn.model_selection import train_test_split\n",
        "\n",
        "model = LogisticRegression(random_state=0)\n",
        "\n",
        "X_train, X_test, y_train, y_test, indices_train, indices_test = train_test_split(features, labels, df.index, test_size=0.33, random_state=0)\n",
        "model.fit(X_train, y_train)\n",
        "y_pred_proba = model.predict_proba(X_test)\n",
        "y_pred = model.predict(X_test)"
      ],
      "execution_count": 14,
      "outputs": []
    },
    {
      "cell_type": "code",
      "metadata": {
        "colab": {
          "base_uri": "https://localhost:8080/",
          "height": 296
        },
        "id": "gYv3Q-gJ68ib",
        "outputId": "dabc012d-1ab2-4ba9-985e-b7e931c4c640"
      },
      "source": [
        "from sklearn.metrics import confusion_matrix\n",
        "import seaborn as sns\n",
        "from matplotlib import pyplot as plt\n",
        "\n",
        "conf_mat = confusion_matrix(y_test, y_pred)\n",
        "sns.heatmap(conf_mat, annot=True, fmt='d',\n",
        "            xticklabels=category_id_df.Category.values, yticklabels=category_id_df.Category.values)\n",
        "plt.ylabel('Actual')\n",
        "plt.xlabel('Predicted')\n",
        "\n",
        "#30% test"
      ],
      "execution_count": 15,
      "outputs": [
        {
          "output_type": "execute_result",
          "data": {
            "text/plain": [
              "Text(0.5, 15.0, 'Predicted')"
            ]
          },
          "metadata": {
            "tags": []
          },
          "execution_count": 15
        },
        {
          "output_type": "display_data",
          "data": {
            "image/png": "[encoded data removed]",
            "text/plain": [
              "<Figure size 432x288 with 2 Axes>"
            ]
          },
          "metadata": {
            "tags": [],
            "needs_background": "light"
          }
        }
      ]
    },
    {
      "cell_type": "markdown",
      "metadata": {
        "id": "tpycHa6_Owwg"
      },
      "source": [
        "We analyze in greater detail the \"true false\" for the Depopulation class to check what is causing these failures:"
      ]
    },
    {
      "cell_type": "code",
      "metadata": {
        "id": "M9Kiqrtf9Gep",
        "colab": {
          "base_uri": "https://localhost:8080/",
          "height": 300
        },
        "outputId": "7bd82224-250f-41c8-9c89-759567311a65"
      },
      "source": [
        "from IPython.display import display\n",
        "\n",
        "for predicted in category_id_df.category_id:\n",
        "  for actual in category_id_df.category_id:\n",
        "    if predicted != actual and conf_mat[actual, predicted] >= 2:\n",
        "      print(\"'{}' predicted as '{}' : {} examples.\".format(id_to_category[actual], id_to_category[predicted], conf_mat[actual, predicted]))\n",
        "      display(df.loc[indices_test[(y_test == actual) & (y_pred == predicted)]][['Titulo', 'Cuerpo']])\n",
        "      print('')"
      ],
      "execution_count": null,
      "outputs": [
        {
          "output_type": "stream",
          "text": [
            "'Despoblacion' predicted as 'No Despoblacion' : 7 examples.\n"
          ],
          "name": "stdout"
        },
        {
          "output_type": "display_data",
          "data": {
            "text/html": [
              "<div>\n",
              "<style scoped>\n",
              "    .dataframe tbody tr th:only-of-type {\n",
              "        vertical-align: middle;\n",
              "    }\n",
              "\n",
              "    .dataframe tbody tr th {\n",
              "        vertical-align: top;\n",
              "    }\n",
              "\n",
              "    .dataframe thead th {\n",
              "        text-align: right;\n",
              "    }\n",
              "</style>\n",
              "<table border=\"1\" class=\"dataframe\">\n",
              "  <thead>\n",
              "    <tr style=\"text-align: right;\">\n",
              "      <th></th>\n",
              "      <th>Titulo</th>\n",
              "      <th>Cuerpo</th>\n",
              "    </tr>\n",
              "  </thead>\n",
              "  <tbody>\n",
              "    <tr>\n",
              "      <th>119</th>\n",
              "      <td>Cinco buenas noticias de este sábado para venc...</td>\n",
              "      <td>No se podrá administrar hasta el próximo año, ...</td>\n",
              "    </tr>\n",
              "    <tr>\n",
              "      <th>37</th>\n",
              "      <td>Los principales retos de la prensa local ante ...</td>\n",
              "      <td>Todos los gurús de la prensa llevan mucho tiem...</td>\n",
              "    </tr>\n",
              "    <tr>\n",
              "      <th>116</th>\n",
              "      <td>Castilla y León registra el segundo peor saldo...</td>\n",
              "      <td>La cifra de nacimientos en Castilla y León des...</td>\n",
              "    </tr>\n",
              "    <tr>\n",
              "      <th>84</th>\n",
              "      <td>\"El olvido de la minería convierte a Asturias ...</td>\n",
              "      <td>El Gobierno ha dejado claro esta semana que la...</td>\n",
              "    </tr>\n",
              "    <tr>\n",
              "      <th>83</th>\n",
              "      <td>\"Teruel Existe, rumbo al 10-N: &amp;quot;Resulta q...</td>\n",
              "      <td>El paso al frente de la plataforma Teruel Exis...</td>\n",
              "    </tr>\n",
              "    <tr>\n",
              "      <th>105</th>\n",
              "      <td>Pedro Gallardo: \"Defenderé la agricultura como...</td>\n",
              "      <td>El vicepresidente de ASAJA, Pedro Gallardo ha ...</td>\n",
              "    </tr>\n",
              "    <tr>\n",
              "      <th>122</th>\n",
              "      <td>Así es la sierra norte de Guadalajara, el luga...</td>\n",
              "      <td>En Campisabalos, en el extremo noroccidental d...</td>\n",
              "    </tr>\n",
              "  </tbody>\n",
              "</table>\n",
              "</div>"
            ],
            "text/plain": [
              "                                                Titulo                                             Cuerpo\n",
              "119  Cinco buenas noticias de este sábado para venc...  No se podrá administrar hasta el próximo año, ...\n",
              "37   Los principales retos de la prensa local ante ...  Todos los gurús de la prensa llevan mucho tiem...\n",
              "116  Castilla y León registra el segundo peor saldo...  La cifra de nacimientos en Castilla y León des...\n",
              "84   \"El olvido de la minería convierte a Asturias ...  El Gobierno ha dejado claro esta semana que la...\n",
              "83   \"Teruel Existe, rumbo al 10-N: &quot;Resulta q...  El paso al frente de la plataforma Teruel Exis...\n",
              "105  Pedro Gallardo: \"Defenderé la agricultura como...  El vicepresidente de ASAJA, Pedro Gallardo ha ...\n",
              "122  Así es la sierra norte de Guadalajara, el luga...  En Campisabalos, en el extremo noroccidental d..."
            ]
          },
          "metadata": {
            "tags": []
          }
        },
        {
          "output_type": "stream",
          "text": [
            "\n"
          ],
          "name": "stdout"
        }
      ]
    },
    {
      "cell_type": "markdown",
      "metadata": {
        "id": "hrnUSwLVO027"
      },
      "source": [
        "As it can be seen above, erroneously classified articles are articles that speak of different topics (articles that involve words related to Depopulation, such as those that speak of towns in Spain). It should be noted that a model with a maximum accuracy of 100% is an unrealistic case as there are always model failures due to this.\r\n",
        "\r\n",
        "Subsequently, we verify that terms are associated more frequently with the different classes (Depopulation and Non-Depopulation) using the chi-square technique to obtain the unigrams and bigrams:"
      ]
    },
    {
      "cell_type": "code",
      "metadata": {
        "colab": {
          "base_uri": "https://localhost:8080/"
        },
        "id": "kzO82ptUKMmA",
        "outputId": "9833f635-874d-49f1-95e6-6cf2dd463ee9"
      },
      "source": [
        "model.fit(features, labels)"
      ],
      "execution_count": 16,
      "outputs": [
        {
          "output_type": "execute_result",
          "data": {
            "text/plain": [
              "LogisticRegression(C=1.0, class_weight=None, dual=False, fit_intercept=True,\n",
              "                   intercept_scaling=1, l1_ratio=None, max_iter=100,\n",
              "                   multi_class='auto', n_jobs=None, penalty='l2',\n",
              "                   random_state=0, solver='lbfgs', tol=0.0001, verbose=0,\n",
              "                   warm_start=False)"
            ]
          },
          "metadata": {
            "tags": []
          },
          "execution_count": 16
        }
      ]
    },
    {
      "cell_type": "code",
      "metadata": {
        "colab": {
          "base_uri": "https://localhost:8080/"
        },
        "id": "FRSFp-W8KMmE",
        "outputId": "6d1f45ee-f370-4f13-a1f5-61ebda7f5147"
      },
      "source": [
        "from sklearn.feature_selection import chi2\n",
        "\n",
        "N = 5\n",
        "for category, category_id in sorted(category_to_id.items()):\n",
        "  indices = np.argsort(model.coef_[0])\n",
        "  feature_names = np.array(tfidf.get_feature_names())[indices]\n",
        "  unigrams = [v for v in reversed(feature_names) if len(v.split(' ')) == 1][:N]\n",
        "  bigrams = [v for v in reversed(feature_names) if len(v.split(' ')) == 2][:N]\n",
        "  print(\"# '{}':\".format(category))\n",
        "  print(\"  . Top unigrams:\\n       . {}\".format('\\n       . '.join(unigrams)))\n",
        "  print(\"  . Top bigrams:\\n       . {}\".format('\\n       . '.join(bigrams)))\n"
      ],
      "execution_count": 17,
      "outputs": [
        {
          "output_type": "stream",
          "text": [
            "# 'Despoblacion':\n",
            "  . Top unigrams:\n",
            "       . después\n",
            "       . tras\n",
            "       . partido\n",
            "       . semana\n",
            "       . equipo\n",
            "  . Top bigrams:\n",
            "       . fin semana\n",
            "       . año pasado\n",
            "       . covid 19\n",
            "       . 00 horas\n",
            "       . 100 000\n",
            "# 'No Despoblacion':\n",
            "  . Top unigrams:\n",
            "       . después\n",
            "       . tras\n",
            "       . partido\n",
            "       . semana\n",
            "       . equipo\n",
            "  . Top bigrams:\n",
            "       . fin semana\n",
            "       . año pasado\n",
            "       . covid 19\n",
            "       . 00 horas\n",
            "       . 100 000\n"
          ],
          "name": "stdout"
        }
      ]
    },
    {
      "cell_type": "code",
      "metadata": {
        "colab": {
          "base_uri": "https://localhost:8080/"
        },
        "id": "QOyYF6fdRc18",
        "outputId": "c9981cc4-a40c-4e09-b171-6e8284ae64cb"
      },
      "source": [
        "# We check how many articles contain the word \"Spain\" in its title\r\n",
        "df[df.Titulo.str.lower().str.contains('españa')].Category.value_counts()"
      ],
      "execution_count": 18,
      "outputs": [
        {
          "output_type": "execute_result",
          "data": {
            "text/plain": [
              "Despoblacion       39\n",
              "No Despoblacion     7\n",
              "Name: Category, dtype: int64"
            ]
          },
          "metadata": {
            "tags": []
          },
          "execution_count": 18
        }
      ]
    },
    {
      "cell_type": "markdown",
      "metadata": {
        "id": "DIwDLICSvEih"
      },
      "source": [
        "### Test run\r\n",
        "\r\n",
        "Next we will carry out a series of tests with some short texts on different topics to observe how the model categorizes them, it should be noted that in the example of the second sentence \"* Once upon a time there was a very facherita Spain and I was one day with the boys doing things emptied * \"by having a short length we obtain few characteristics in the TF-IDF vector and therefore keywords such as\" Spain emptied \"have more weight / importance hence the erroneous prediction, but we can verify that in a longer example this case is not given."
      ]
    },
    {
      "cell_type": "code",
      "metadata": {
        "colab": {
          "base_uri": "https://localhost:8080/"
        },
        "id": "DvmxlZdJGITR",
        "outputId": "adc19555-1765-4aca-a2a8-1814677f3c1f"
      },
      "source": [
        "texts = [\"España vaciada la situacion es muy mala\",\n",
        "         \"Erase una vez una España bien facherita y estaba un dia con los boys haciendo cosas vaciada\",\n",
        "         \"You won't guess what the latest trend in data analysis is!\",\n",
        "         \"Ruben tambien porque juega al valorant La despoblación supone la pérdida total o parcial de los habitantes de un lugar como sandro\",\n",
        "         \"Se tiene constancia de españa El contacto con la pelota se realiza con las manos. Los jugadores, también llamados baloncestistas, no pueden trasladarse sujetando la pelota, sino botándola contra el suelo. El equipo en posesión del balón o atacante, intenta anotar puntos mediante tiros, entradas a canasta vaciada o mates, mientras que el equipo defensor busca impedirlo robando la pelota o efectuando tapones. Cuando un tiro hacia la canasta fracasa, los jugadores de ambos equipos intentan atrapar el rebote. poblamiento en la deportes zona desde el Paleolítico Medio.  patata  Sin embargo, está discutido si la ciudad actual data de época visigoda o es anterior, aunque con total seguridad existía en el siglo xi, durante la dominación musulmana.\"\n",
        "         ]\n",
        "\n",
        "text_features = tfidf.transform(texts)\n",
        "predictions = model.predict(text_features)\n",
        "for text, predicted in zip(texts, predictions):\n",
        "  print('\"{}\"'.format(text))\n",
        "  print(\"  - Predicted as: '{}'\".format(id_to_category[predicted]))"
      ],
      "execution_count": 20,
      "outputs": [
        {
          "output_type": "stream",
          "text": [
            "\"España vaciada la situacion es muy mala\"\n",
            "  - Predicted as: 'Despoblacion'\n",
            "\"Erase una vez una España bien facherita y estaba un dia con los boys haciendo cosas vaciada\"\n",
            "  - Predicted as: 'Despoblacion'\n",
            "\"You won't guess what the latest trend in data analysis is!\"\n",
            "  - Predicted as: 'No Despoblacion'\n",
            "\"Ruben tambien porque juega al valorant La despoblación supone la pérdida total o parcial de los habitantes de un lugar como sandro\"\n",
            "  - Predicted as: 'Despoblacion'\n",
            "\"Se tiene constancia de españa El contacto con la pelota se realiza con las manos. Los jugadores, también llamados baloncestistas, no pueden trasladarse sujetando la pelota, sino botándola contra el suelo. El equipo en posesión del balón o atacante, intenta anotar puntos mediante tiros, entradas a canasta vaciada o mates, mientras que el equipo defensor busca impedirlo robando la pelota o efectuando tapones. Cuando un tiro hacia la canasta fracasa, los jugadores de ambos equipos intentan atrapar el rebote. poblamiento en la deportes zona desde el Paleolítico Medio.  patata  Sin embargo, está discutido si la ciudad actual data de época visigoda o es anterior, aunque con total seguridad existía en el siglo xi, durante la dominación musulmana.\"\n",
            "  - Predicted as: 'No Despoblacion'\n"
          ],
          "name": "stdout"
        }
      ]
    }
  ]
}